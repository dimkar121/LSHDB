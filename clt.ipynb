{
  "nbformat": 4,
  "nbformat_minor": 0,
  "metadata": {
    "colab": {
      "name": "Untitled0.ipynb",
      "provenance": [],
      "authorship_tag": "ABX9TyMsZ7lXn6EGoLmHz7Nw/cOu",
      "include_colab_link": true
    },
    "kernelspec": {
      "name": "python3",
      "display_name": "Python 3"
    },
    "language_info": {
      "name": "python"
    }
  },
  "cells": [
    {
      "cell_type": "markdown",
      "metadata": {
        "id": "view-in-github",
        "colab_type": "text"
      },
      "source": [
        "<a href=\"https://colab.research.google.com/github/dimkar121/LSHDB/blob/master/clt.ipynb\" target=\"_parent\"><img src=\"https://colab.research.google.com/assets/colab-badge.svg\" alt=\"Open In Colab\"/></a>"
      ]
    },
    {
      "cell_type": "code",
      "execution_count": 1,
      "metadata": {
        "id": "wS-MBiQSg7UA",
        "outputId": "c4b2d9dd-0865-4ea5-f7c2-c9ac27d18eeb",
        "colab": {
          "base_uri": "https://localhost:8080/",
          "height": 301
        }
      },
      "outputs": [
        {
          "output_type": "display_data",
          "data": {
            "text/plain": [
              "<Figure size 432x288 with 1 Axes>"
            ],
            "image/png": "[encoded data removed]"
          },
          "metadata": {
            "needs_background": "light"
          }
        },
        {
          "output_type": "stream",
          "name": "stdout",
          "text": [
            "500639\n",
            "0.5 0.500639 0.0006389999999999452 0.001\n"
          ]
        }
      ],
      "source": [
        "import numpy as np\n",
        "import math\n",
        "from scipy.stats import norm\n",
        "from scipy.stats import binom\n",
        "import matplotlib.pyplot as plt\n",
        "import seaborn as sns\n",
        "np.set_printoptions(suppress=True)\n",
        "\n",
        "n, p = 1000000, .5 # number of trials, probability of each trial\n",
        "\n",
        "std = math.sqrt(n*(p**2))\n",
        "mu = n*p\n",
        "s = np.random.binomial(n, p, n)\n",
        "\n",
        "#scale = 0.5\n",
        "#l = 1/scale\n",
        "#s = np.random.exponential(scale, n)\n",
        "#mu = scale\n",
        "#std = mu\n",
        "\n",
        "#mu = 15\n",
        "#std = math.sqrt(mu)\n",
        "#s = np.random.poisson(mu, n)\n",
        "\n",
        "z = np.array((s - mu) / std)\n",
        "plt.plot(np.sort(z), norm.pdf(np.sort(z)))\n",
        "plt.show()\n",
        "t = 0\n",
        "h1 = norm.cdf(t, 0 ,1)\n",
        "za = (z <= t).sum()\n",
        "print(za)\n",
        "h2 = za/n\n",
        "print(h1, h2, abs(h2 - h1), 1/math.sqrt(n))\n",
        "#new change"
      ]
    }
  ]
}